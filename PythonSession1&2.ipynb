{
  "nbformat": 4,
  "nbformat_minor": 0,
  "metadata": {
    "colab": {
      "name": "PythonSession1&2.ipynb",
      "provenance": [],
      "collapsed_sections": [],
      "authorship_tag": "ABX9TyPh731lMEpL6oNjsyhX3RPh"
    },
    "kernelspec": {
      "name": "python3",
      "display_name": "Python 3"
    },
    "language_info": {
      "name": "python"
    }
  },
  "cells": [
    {
      "cell_type": "code",
      "metadata": {
        "id": "Tjk86zxPaXBT"
      },
      "source": [
        "randomNum = random.randint(1, 10)\n",
        "userName = input(\"What is your name \\n\")\n",
        "userGuess = input(\"Guess a number between 1 and 10 \\n\")\n",
        "if randomNum == int(userGuess):\n",
        "    print(f\"Weldone {userName}, You have guessed right\")\n",
        "else:\n",
        "    print(f\"Your guess is wrong, the answer is {randomNum}\")"
      ],
      "execution_count": null,
      "outputs": []
    },
    {
      "cell_type": "code",
      "metadata": {
        "id": "4P_kyB-JZ6SP"
      },
      "source": [
        "import random\n",
        "jokes = [\"Why was the math teacher late to work?\", \"Where do spiders seek health advice\", \"Why can't you trust an atom?\"] \n",
        "fav_num = int(input(\"choose a favorite number between 1 and 100 \\n\")) \n",
        "if fav_num <= 30: \n",
        "    print(jokes[0]) \n",
        "elif fav_num > 30 and fav_num <= 60: \n",
        "    print(jokes[1])\n",
        "elif fav_num > 60 and fav_num <= 100: \n",
        "    print(jokes[2]) \n",
        "else: \n",
        "    print(\"choose a number within the range\")"
      ],
      "execution_count": null,
      "outputs": []
    },
    {
      "cell_type": "code",
      "metadata": {
        "id": "ZVfl6nlJaBvD"
      },
      "source": [
        "starter = input(\"|What do you like for starter \\n\")\n",
        "mainCourse = input(\"|What do you like for main course \\n\")\n",
        "dessert = input(\"|What do you like for dessert \\n\")\n",
        "drink = input(\"|What do you like for drink \\n\")\n",
        "print(f\"Your favourite meal is {mainCourse} for main, {starter} for starter, {dessert} for dessert with a glass of {drink}\")\n"
      ],
      "execution_count": null,
      "outputs": []
    },
    {
      "cell_type": "code",
      "metadata": {
        "colab": {
          "base_uri": "https://localhost:8080/"
        },
        "id": "rQtkLL9ZIJzT",
        "outputId": "d095750e-b4e3-4b5f-bbdc-3e4fa6a68cd1"
      },
      "source": [
        "initCost = 2000\n",
        "while initCost > 1000:\n",
        "    print(f\" the value of the bike is £{initCost}\")\n",
        "    initCost *= 0.9"
      ],
      "execution_count": 19,
      "outputs": [
        {
          "output_type": "stream",
          "name": "stdout",
          "text": [
            " the value of the bike is £2000\n",
            " the value of the bike is £1800.0\n",
            " the value of the bike is £1620.0\n",
            " the value of the bike is £1458.0\n",
            " the value of the bike is £1312.2\n",
            " the value of the bike is £1180.98\n",
            " the value of the bike is £1062.882\n"
          ]
        }
      ]
    },
    {
      "cell_type": "code",
      "metadata": {
        "colab": {
          "base_uri": "https://localhost:8080/"
        },
        "id": "fmjaCG6oITd3",
        "outputId": "28322411-8673-4554-ecf3-4cfb978674b6"
      },
      "source": [
        "userNum1 = (input(\"Select a number \\n\"))\n",
        "userNum2 = (input(\"Select a number \\n\"))\n",
        "operand = input(\"choose from +,-,*,**,/ \\n\")\n",
        "print(eval(userNum1 + operand + userNum2))\n"
      ],
      "execution_count": 37,
      "outputs": [
        {
          "output_type": "stream",
          "name": "stdout",
          "text": [
            "Select a number \n",
            "8\n",
            "Select a number \n",
            "8\n",
            "choose from +,-,*,**,/ \n",
            "+\n",
            "16\n"
          ]
        }
      ]
    },
    {
      "cell_type": "code",
      "metadata": {
        "colab": {
          "base_uri": "https://localhost:8080/"
        },
        "id": "JYbuhde-IIrW",
        "outputId": "d09e1dd1-603e-483d-853d-93d03a29d68c"
      },
      "source": [
        "def bikeValue(initCost):\n",
        "  while initCost > 1000:\n",
        "    initCost *= 0.9\n",
        "    print(f\" the value of the bike is £{initCost}\")    \n",
        "bikeValue(2000)"
      ],
      "execution_count": 52,
      "outputs": [
        {
          "output_type": "stream",
          "name": "stdout",
          "text": [
            " the value of the bike is £1800.0\n",
            " the value of the bike is £1620.0\n",
            " the value of the bike is £1458.0\n",
            " the value of the bike is £1312.2\n",
            " the value of the bike is £1180.98\n",
            " the value of the bike is £1062.882\n",
            " the value of the bike is £956.5938000000001\n"
          ]
        }
      ]
    },
    {
      "cell_type": "code",
      "metadata": {
        "colab": {
          "base_uri": "https://localhost:8080/"
        },
        "id": "1QHgKpCYLRsc",
        "outputId": "2fc0fa2a-ac41-4c05-9374-5e9456e9c19c"
      },
      "source": [
        "d = \"2\" \"+\" \"3\"\n",
        "print(eval(d))"
      ],
      "execution_count": 19,
      "outputs": [
        {
          "output_type": "stream",
          "name": "stdout",
          "text": [
            "5\n"
          ]
        }
      ]
    },
    {
      "cell_type": "code",
      "metadata": {
        "colab": {
          "base_uri": "https://localhost:8080/"
        },
        "id": "g0_dVX4XQibV",
        "outputId": "30fba248-6b85-4f54-83e7-fb1883d645d4"
      },
      "source": [
        "def sumOfNum():\n",
        "  num1 = input(\"choose a number \\n\")\n",
        "  num2 = input(\"choose a number \\n\")\n",
        "  operand = input(\"choose from +,-,*,**,/ \\n\")\n",
        "  print(eval(num1 + operand + num2))\n",
        "sumOfNum()\n",
        "\n"
      ],
      "execution_count": 53,
      "outputs": [
        {
          "output_type": "stream",
          "name": "stdout",
          "text": [
            "choose a number8\n",
            "choose a number8\n",
            "choose from +,-,*,**,/+\n",
            "16\n"
          ]
        }
      ]
    },
    {
      "cell_type": "code",
      "metadata": {
        "colab": {
          "base_uri": "https://localhost:8080/"
        },
        "id": "yhczFnxJ5Au5",
        "outputId": "a2f9b3ba-7374-4c62-e2b5-b0ea5add3f7f"
      },
      "source": [
        "my2dList = [[1,2,3,4,5,6,7,8],\n",
        "            [1,2,3,5,5,6,7,8],\n",
        "            [1,2,3,4,5,8,7,8]\n",
        "            ]\n",
        "# for i in range(len(myIdList)):\n",
        "#   print(\"my list at value\", i, \"is:\",myIdList[i])\n",
        "print(f\"the characters are {my2dList[2][2:6]}\")"
      ],
      "execution_count": 3,
      "outputs": [
        {
          "output_type": "stream",
          "name": "stdout",
          "text": [
            "the characters are [3, 4, 5, 8]\n"
          ]
        }
      ]
    },
    {
      "cell_type": "markdown",
      "metadata": {
        "id": "0IpKokeMFFOc"
      },
      "source": [
        "[https://docs.google.com/presentation/d/19kf4BhYwRs9fhXcWiU5mpzAnQfGByQVg2RQ8QToNGMI/edit?usp=sharing]"
      ]
    }
  ]
}